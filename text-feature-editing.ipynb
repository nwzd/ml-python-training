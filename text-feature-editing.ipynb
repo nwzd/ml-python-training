{
 "cells": [
  {
   "cell_type": "code",
   "execution_count": 3,
   "metadata": {},
   "outputs": [
    {
     "name": "stdout",
     "output_type": "stream",
     "text": [
      "{'far': 6, 'away': 1, 'behind': 2, 'the': 11, 'word': 14, 'mountains': 9, 'from': 7, 'countries': 5, 'vokalia': 13, 'and': 0, 'consonantia': 4, 'there': 12, 'live': 8, 'blind': 3, 'texts': 10}\n"
     ]
    }
   ],
   "source": [
    "# Bag-of-Words example\n",
    "from sklearn.feature_extraction.text import CountVectorizer\n",
    "text = [\"Far far away, behind the word mountains, far from the countries Vokalia and Consonantia, there live the blind texts.\"]\n",
    "vectorizer = CountVectorizer()\n",
    "vectorizer.fit(text)\n",
    "# Show the vectorized vocabulary\n",
    "print(vectorizer.vocabulary_)"
   ]
  },
  {
   "cell_type": "code",
   "execution_count": 4,
   "metadata": {},
   "outputs": [
    {
     "name": "stdout",
     "output_type": "stream",
     "text": [
      "(1, 15)\n",
      "<class 'scipy.sparse.csr.csr_matrix'>\n",
      "[[1 1 1 1 1 1 3 1 1 1 1 3 1 1 1]]\n"
     ]
    }
   ],
   "source": [
    "# Encode the text\n",
    "vector = vectorizer.transform(text)\n",
    "# Show the encoded vector\n",
    "print(vector.shape)\n",
    "print(type(vector))\n",
    "print(vector.toarray())"
   ]
  },
  {
   "cell_type": "code",
   "execution_count": 5,
   "metadata": {},
   "outputs": [
    {
     "name": "stdout",
     "output_type": "stream",
     "text": [
      "['and', 'and consonantia', 'and consonantia there', 'away', 'away behind', 'away behind the', 'behind', 'behind the', 'behind the word', 'blind', 'blind texts', 'consonantia', 'consonantia there', 'consonantia there live', 'countries', 'countries vokalia', 'countries vokalia and', 'far', 'far away', 'far away behind', 'far far', 'far far away', 'far from', 'far from the', 'from', 'from the', 'from the countries', 'live', 'live the', 'live the blind', 'mountains', 'mountains far', 'mountains far from', 'texts', 'the', 'the blind', 'the blind texts', 'the countries', 'the countries vokalia', 'the word', 'the word mountains', 'there', 'there live', 'there live the', 'vokalia', 'vokalia and', 'vokalia and consonantia', 'word', 'word mountains', 'word mountains far']\n"
     ]
    }
   ],
   "source": [
    "# N-gram example\n",
    "vectorizer2 = CountVectorizer(analyzer='word', ngram_range=(1, 3))\n",
    "vector2 = vectorizer2.fit_transform(text)\n",
    "print(vectorizer2.get_feature_names())"
   ]
  },
  {
   "cell_type": "code",
   "execution_count": null,
   "metadata": {},
   "outputs": [],
   "source": []
  }
 ],
 "metadata": {
  "kernelspec": {
   "display_name": "Python 3",
   "language": "python",
   "name": "python3"
  },
  "language_info": {
   "codemirror_mode": {
    "name": "ipython",
    "version": 3
   },
   "file_extension": ".py",
   "mimetype": "text/x-python",
   "name": "python",
   "nbconvert_exporter": "python",
   "pygments_lexer": "ipython3",
   "version": "3.8.5"
  }
 },
 "nbformat": 4,
 "nbformat_minor": 4
}
